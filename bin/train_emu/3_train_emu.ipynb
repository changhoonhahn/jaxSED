{
 "cells": [
  {
   "cell_type": "code",
   "execution_count": 1,
   "id": "44c1445f-1150-4587-93a7-c10c420561c0",
   "metadata": {
    "tags": []
   },
   "outputs": [],
   "source": [
    "import os\n",
    "import numpy as np\n",
    "\n",
    "import jax\n",
    "import jax.numpy as jnp\n",
    "from jax import grad, jit, vmap, random\n",
    "from jax.nn import sigmoid, relu\n",
    "from jax.tree_util import tree_map\n",
    "\n",
    "import optax\n",
    "import functools\n",
    "\n",
    "import torch\n",
    "from torch.utils import data"
   ]
  },
  {
   "cell_type": "code",
   "execution_count": 2,
   "id": "3e5ef59c",
   "metadata": {
    "tags": []
   },
   "outputs": [],
   "source": [
    "import matplotlib.pyplot as plt"
   ]
  },
  {
   "cell_type": "code",
   "execution_count": 3,
   "id": "bc010b7f",
   "metadata": {
    "tags": []
   },
   "outputs": [],
   "source": [
    "import util as U"
   ]
  },
  {
   "cell_type": "markdown",
   "id": "84bc757e",
   "metadata": {},
   "source": [
    "# Load data"
   ]
  },
  {
   "cell_type": "code",
   "execution_count": 4,
   "id": "22dafa8c",
   "metadata": {
    "tags": []
   },
   "outputs": [],
   "source": [
    "iwave = 0"
   ]
  },
  {
   "cell_type": "code",
   "execution_count": 5,
   "id": "7ca9e56d",
   "metadata": {
    "tags": []
   },
   "outputs": [],
   "source": [
    "_thetas, _t_ages = [], [] \n",
    "for i in range(10): \n",
    "    _thetas.append(np.load(os.path.join(U.data_dir(), 'seds', 'modelb', 'train_sed.modelb.%i.thetas_sps.npz' % i))['arr_0'])\n",
    "    _t_ages.append(np.load(os.path.join(U.data_dir(), 'seds', 'modelb', 'train_sed.modelb.%i.tages.npz' % i))['arr_0'])    \n",
    "_thetas = np.concatenate(_thetas, axis=0)    \n",
    "_t_ages = np.concatenate(_t_ages, axis=0)\n",
    "_thetas = np.concatenate([_thetas, _t_ages[:,None]], axis=1)"
   ]
  },
  {
   "cell_type": "code",
   "execution_count": 6,
   "id": "a8d6cfab",
   "metadata": {
    "tags": []
   },
   "outputs": [],
   "source": [
    "avg_thetas = np.mean(_thetas, axis=0)\n",
    "std_thetas = np.std(_thetas, axis=0)\n",
    "thetas = (_thetas - avg_thetas)/std_thetas"
   ]
  },
  {
   "cell_type": "code",
   "execution_count": 7,
   "id": "d633c5a3",
   "metadata": {
    "tags": []
   },
   "outputs": [],
   "source": [
    "_x_pca = np.load(os.path.join(U.data_dir(), 'seds', 'modelb', 'train_sed.modelb.x_pca.w%i.npy' % iwave))"
   ]
  },
  {
   "cell_type": "code",
   "execution_count": 8,
   "id": "aede1e8f",
   "metadata": {
    "tags": []
   },
   "outputs": [],
   "source": [
    "avg_x_pca = np.mean(_x_pca, axis=0)\n",
    "std_x_pca = np.std(_x_pca, axis=0)\n",
    "x_pca = (_x_pca - avg_x_pca)/std_x_pca"
   ]
  },
  {
   "cell_type": "code",
   "execution_count": 9,
   "id": "57eab7ec",
   "metadata": {
    "tags": []
   },
   "outputs": [],
   "source": [
    "def numpy_collate(batch):\n",
    "    return tree_map(np.asarray, data.default_collate(batch))\n",
    "\n",
    "class NumpyLoader(data.DataLoader):\n",
    "    def __init__(self, dataset, batch_size=1,\n",
    "                shuffle=False, sampler=None,\n",
    "                batch_sampler=None, num_workers=0,\n",
    "                pin_memory=False, drop_last=False,\n",
    "                timeout=0, worker_init_fn=None):\n",
    "        super(self.__class__, self).__init__(dataset,\n",
    "            batch_size=batch_size,\n",
    "            shuffle=shuffle,\n",
    "            sampler=sampler,\n",
    "            batch_sampler=batch_sampler,\n",
    "            num_workers=num_workers,\n",
    "            collate_fn=numpy_collate,\n",
    "            pin_memory=pin_memory,\n",
    "            drop_last=drop_last,\n",
    "            timeout=timeout,\n",
    "            worker_init_fn=worker_init_fn)\n",
    "\n",
    "class FlattenAndCast(object):\n",
    "    def __call__(self, pic):\n",
    "        return np.ravel(np.array(pic, dtype=jnp.float32))"
   ]
  },
  {
   "cell_type": "code",
   "execution_count": 10,
   "id": "9814b297",
   "metadata": {
    "tags": []
   },
   "outputs": [],
   "source": [
    "N_train = int(0.9*x_pca.shape[0])\n",
    "train_dataloader = NumpyLoader(data.TensorDataset(torch.tensor(thetas[:N_train]), torch.tensor(x_pca[:N_train])), batch_size=500)\n",
    "valid_dataloader = NumpyLoader(data.TensorDataset(torch.tensor(thetas[N_train:]), torch.tensor(x_pca[N_train:])), batch_size=500)"
   ]
  },
  {
   "cell_type": "markdown",
   "id": "3722a834",
   "metadata": {},
   "source": [
    "# set up MLP in jax"
   ]
  },
  {
   "cell_type": "code",
   "execution_count": 11,
   "id": "dc9d0ca8",
   "metadata": {
    "tags": []
   },
   "outputs": [],
   "source": [
    "def nonlin_act(x, beta, gamma):\n",
    "    return (gamma + sigmoid(beta * x) * (1 - gamma)) * x\n",
    "\n",
    "def init_mlp_params(layer_sizes, scale=1e-2):\n",
    "    keys = random.split(random.PRNGKey(1), len(layer_sizes))\n",
    "\n",
    "    params = []\n",
    "    for i, key in zip(np.arange(len(layer_sizes)-2), keys): \n",
    "        m, n = layer_sizes[i], layer_sizes[i+1]\n",
    "        #w_key, b_key = random.split(key, num=2)\n",
    "        #params.append([scale * random.normal(w_key, (n, m)), scale * random.normal(b_key, (n,))])\n",
    "        w_key, b_key, _a_key, _b_key = random.split(key, num=4)\n",
    "        params.append([scale * random.normal(w_key, (n, m)), scale * random.normal(b_key, (n,)), \n",
    "                      scale * random.normal(_a_key, (n,)), scale * random.normal(_b_key, (n,))])\n",
    "\n",
    "    m, n = layer_sizes[-2], layer_sizes[-1]        \n",
    "    w_key, b_key = random.split(keys[-1], num=2)\n",
    "    params.append([scale * random.normal(w_key, (n, m)), scale * random.normal(b_key, (n,))])\n",
    "    return params\n",
    "\n",
    "@functools.partial(jax.vmap, in_axes=(None, 0))\n",
    "def forward(params, inputs):\n",
    "    activations = inputs\n",
    "    #for w, b in params[:-1]:\n",
    "    for w, b, beta, gamma in params[:-1]:\n",
    "        outputs = jnp.dot(w, activations) + b\n",
    "        activations = nonlin_act(outputs, beta, gamma) #relu(outputs)#\n",
    "\n",
    "    final_w, final_b = params[-1]\n",
    "    return jnp.dot(final_w, activations) + final_b\n",
    "\n",
    "def mse_loss(params, inputs, targets):\n",
    "    preds = forward(params, inputs)\n",
    "    return jnp.mean((preds - targets) ** 2)"
   ]
  },
  {
   "cell_type": "markdown",
   "id": "89b01d5c",
   "metadata": {},
   "source": [
    "# train using `optax`"
   ]
  },
  {
   "cell_type": "code",
   "execution_count": 12,
   "id": "4f426ca1",
   "metadata": {
    "tags": []
   },
   "outputs": [],
   "source": [
    "# Update function\n",
    "@jit\n",
    "def update(params, opt_state, inputs, targets):\n",
    "    loss, grads = jax.value_and_grad(mse_loss)(params, inputs, targets)\n",
    "    updates, opt_state = gradient_transform.update(grads, opt_state)\n",
    "    params = optax.apply_updates(params, updates)\n",
    "    #updates, opt_state = optimizer.update(grads, opt_state)\n",
    "    #params = optax.apply_updates(params, updates)\n",
    "    return params, opt_state, loss"
   ]
  },
  {
   "cell_type": "code",
   "execution_count": 13,
   "id": "11d39ee0",
   "metadata": {
    "tags": []
   },
   "outputs": [
    {
     "name": "stderr",
     "output_type": "stream",
     "text": [
      "2024-04-24 13:35:26.970019: W external/xla/xla/service/gpu/nvptx_compiler.cc:718] The NVIDIA driver's CUDA version is 12.2 which is older than the ptxas CUDA version (12.4.131). Because the driver is older than the ptxas version, XLA is disabling parallel compilation, which may slow down compilation. You should update your NVIDIA driver or use the NVIDIA-provided CUDA forward compatibility packages.\n"
     ]
    },
    {
     "name": "stdout",
     "output_type": "stream",
     "text": [
      "Epoch 0, Loss: 0.4170221984386444, Valid Loss: 0.28953492641448975\n",
      "Epoch 10, Loss: 0.1890556514263153, Valid Loss: 0.20912723243236542\n",
      "Epoch 20, Loss: 0.17358824610710144, Valid Loss: 0.1839834600687027\n",
      "Epoch 30, Loss: 0.165710911154747, Valid Loss: 0.17988955974578857\n",
      "Epoch 40, Loss: 0.15929654240608215, Valid Loss: 0.16957548260688782\n",
      "Epoch 50, Loss: 0.15583133697509766, Valid Loss: 0.1708892434835434\n",
      "Epoch 60, Loss: 0.15214858949184418, Valid Loss: 0.17519408464431763\n",
      "Epoch 70, Loss: 0.1504860669374466, Valid Loss: 0.16698363423347473\n",
      "Epoch 80, Loss: 0.14906500279903412, Valid Loss: 0.1674344837665558\n",
      "Epoch 90, Loss: 0.14733125269412994, Valid Loss: 0.17235144972801208\n",
      "Epoch 100, Loss: 0.14606229960918427, Valid Loss: 0.15543347597122192\n",
      "Epoch 110, Loss: 0.14473222196102142, Valid Loss: 0.15642310678958893\n"
     ]
    }
   ],
   "source": [
    "layer_sizes = [thetas.shape[1], 512, 512, 512, x_pca.shape[1]]\n",
    "learning_rate = 1e-2\n",
    "n_epochs = 1000\n",
    "\n",
    "# Initialize the MLP and optimizer\n",
    "params = init_mlp_params(layer_sizes)\n",
    "optimizer = optax.adam(learning_rate)\n",
    "\n",
    "total_steps = n_epochs*len(train_dataloader)\n",
    "scheduler = optax.exponential_decay(init_value=learning_rate, \n",
    "                                    transition_steps=total_steps, \n",
    "                                    transition_begin=int(total_steps*0.25),\n",
    "                                    decay_rate=0.01)\n",
    "\n",
    "# Combining gradient transforms using `optax.chain`.\n",
    "gradient_transform = optax.chain(\n",
    "    optax.clip_by_global_norm(1.0),  # Clip by the gradient by the global norm.\n",
    "    optax.scale_by_adam(),  # Use the updates from adam.\n",
    "    optax.scale_by_schedule(scheduler),  # Use the learning rate from the scheduler.\n",
    "    # Scale updates by -1 since optax.apply_updates is additive and we want to descend on the loss.\n",
    "    optax.scale(-1.0)\n",
    ")\n",
    "\n",
    "# Initialize optimizer state\n",
    "#opt_state = optimizer.init(params)\n",
    "opt_state = gradient_transform.init(params)\n",
    "\n",
    "\n",
    "# Training loop\n",
    "train_loss, valid_loss, best_valid_loss, best_epoch = [], [], np.inf, 0\n",
    "for epoch in range(n_epochs):\n",
    "    epoch_loss = 0.0\n",
    "    for x, y in train_dataloader:        \n",
    "        params, opt_state, loss = update(params, opt_state, x, y)        \n",
    "        epoch_loss += loss\n",
    "    epoch_loss /= len(train_dataloader)\n",
    "    train_loss.append(epoch_loss)\n",
    "    \n",
    "    _loss = 0.\n",
    "    for x, y in valid_dataloader: \n",
    "        loss = mse_loss(params, x, y)\n",
    "        _loss += loss\n",
    "    valid_loss.append(_loss/len(valid_dataloader))\n",
    "\n",
    "    # early stopping after 20 epochs\n",
    "    if valid_loss[-1] < best_valid_loss: \n",
    "        best_valid_loss = valid_loss[-1]\n",
    "        best_epoch = epoch\n",
    "        best_params = params.copy()\n",
    "\n",
    "    if epoch > best_epoch + 20: \n",
    "        break\n",
    "\n",
    "    if epoch % 10 == 0: print(f\"Epoch {epoch}, Loss: {epoch_loss}, Valid Loss: {valid_loss[-1]}\")"
   ]
  },
  {
   "cell_type": "code",
   "execution_count": 14,
   "id": "5a403a4c",
   "metadata": {
    "tags": []
   },
   "outputs": [
    {
     "data": {
      "text/plain": [
       "Array([[-0.56091994,  0.88924736,  0.3619088 ,  0.7454902 , -0.44242644,\n",
       "         0.12411431,  0.28678083, -0.6890594 , -0.2523253 ,  0.08695175,\n",
       "         0.27240872,  0.20032182,  0.01110237, -0.20499788, -1.0869149 ,\n",
       "         0.186796  ,  0.34250808,  0.20598796,  0.005796  , -0.47171068,\n",
       "        -0.62958646, -0.92534405, -0.14382401,  0.46953252, -0.3251682 ,\n",
       "        -0.17502408, -0.06687029, -0.45333362, -0.18832439, -0.28265935,\n",
       "         0.22353911, -0.91884446,  0.46970698, -0.16763955,  0.12033338,\n",
       "         0.19131447,  0.08373158,  0.58300906,  0.4946722 , -0.5729561 ,\n",
       "        -0.1918095 ,  0.42023435, -0.36499807,  0.4007348 ,  0.6939702 ,\n",
       "        -0.10628666, -0.03386442, -0.37501183, -0.15412545,  0.2069335 ]],      dtype=float32)"
      ]
     },
     "execution_count": 14,
     "metadata": {},
     "output_type": "execute_result"
    }
   ],
   "source": [
    "forward(best_params, np.array([thetas[0]]))"
   ]
  },
  {
   "cell_type": "code",
   "execution_count": 15,
   "id": "ba1702ed",
   "metadata": {
    "tags": []
   },
   "outputs": [
    {
     "data": {
      "text/plain": [
       "array([-0.54183308,  0.903849  ,  0.35833175,  0.74715039, -0.49139876,\n",
       "        0.12673041,  0.34411543, -0.68580947, -0.36211738,  0.12033735,\n",
       "        0.10623032,  0.11843953,  0.12138415, -0.15936403, -1.03258514,\n",
       "        0.12819094,  0.44048624,  0.21458756, -0.01613224, -0.42981134,\n",
       "       -0.58419217, -0.91268515, -0.08356222,  0.42269231, -0.32774002,\n",
       "       -0.20316892, -0.08100052, -0.57434618, -0.12659601, -0.39018885,\n",
       "        0.08950705, -0.97297941,  0.6065888 , -0.09499975,  0.02730038,\n",
       "        0.25482791, -0.04344216,  0.53033247,  0.53242387, -0.6407962 ,\n",
       "       -0.03348228,  0.41607369, -0.30245498,  0.34658066,  0.62266106,\n",
       "       -0.06754308, -0.12947285, -0.36288769, -0.30495337,  0.0879292 ])"
      ]
     },
     "execution_count": 15,
     "metadata": {},
     "output_type": "execute_result"
    }
   ],
   "source": [
    "x_pca[0]"
   ]
  },
  {
   "cell_type": "code",
   "execution_count": 16,
   "id": "4038c115",
   "metadata": {
    "tags": []
   },
   "outputs": [
    {
     "data": {
      "text/plain": [
       "[<matplotlib.lines.Line2D at 0x7fc7c47d8070>]"
      ]
     },
     "execution_count": 16,
     "metadata": {},
     "output_type": "execute_result"
    },
    {
     "data": {
      "image/png": "[encoded data removed]",
      "text/plain": [
       "<Figure size 640x480 with 1 Axes>"
      ]
     },
     "metadata": {},
     "output_type": "display_data"
    }
   ],
   "source": [
    "plt.plot(train_loss)\n",
    "plt.plot(valid_loss)"
   ]
  },
  {
   "cell_type": "markdown",
   "id": "479c3a93",
   "metadata": {},
   "source": [
    "# validate trained NN"
   ]
  },
  {
   "cell_type": "code",
   "execution_count": 17,
   "id": "dc81979c",
   "metadata": {
    "tags": []
   },
   "outputs": [],
   "source": [
    "M_pca = np.load(os.path.join(U.data_dir(), 'seds', 'modelb', 'train_sed.modelb.M_pca.w%i.npy' % iwave))\n",
    "avg_logsed = np.load(os.path.join(U.data_dir(), 'seds', 'modelb', 'train_sed.modelb.avg_logseds.w%i.npy' % iwave))\n",
    "std_logsed = np.load(os.path.join(U.data_dir(), 'seds', 'modelb', 'train_sed.modelb.std_logseds.w%i.npy' % iwave))"
   ]
  },
  {
   "cell_type": "code",
   "execution_count": 18,
   "id": "d956de10",
   "metadata": {
    "tags": []
   },
   "outputs": [],
   "source": [
    "wave_bins = [(1.5e3, 3.525e3), \n",
    "             (3.525e3, 5.5e3), (5.5e3, 7.5e3), # these wavelength ranges are determined by the MILES spectral library wavelength (3525 - 7500)\n",
    "             (7.5e3, 4e5)]\n",
    "wave_bin = wave_bins[iwave]\n",
    "\n",
    "_w = np.load(os.path.join(U.data_dir(), 'seds', 'modelb', 'train_sed.modelb.0.waves.npz'))['arr_0'][0]\n",
    "wlim = np.ones(len(_w)).astype(bool)\n",
    "if wave_bin[0] is not None: wlim &= (_w > wave_bin[0])\n",
    "if wave_bin[1] is not None: wlim &= (_w < wave_bin[1])   \n",
    "    \n",
    "theta_test = np.load(os.path.join(U.data_dir(), 'seds', 'modelb', 'train_sed.modelb.999.thetas_sps.npz'))['arr_0']\n",
    "t_age_test = np.load(os.path.join(U.data_dir(), 'seds', 'modelb', 'train_sed.modelb.999.tages.npz'))['arr_0']\n",
    "logsed = np.log10(np.load(os.path.join(U.data_dir(), 'seds', 'modelb', 'train_sed.modelb.999.seds.npz'))['arr_0'][:,wlim])"
   ]
  },
  {
   "cell_type": "code",
   "execution_count": 19,
   "id": "35426cf8",
   "metadata": {
    "tags": []
   },
   "outputs": [],
   "source": [
    "dlogsed = []\n",
    "for i in range(logsed.shape[0]): \n",
    "    _theta = np.concatenate([theta_test[i], [t_age_test[i]]])\n",
    "    _wtheta = (_theta - avg_thetas)/std_thetas\n",
    "\n",
    "    _y_pred = forward(best_params, np.array([_wtheta]))\n",
    "\n",
    "    _y_pred *= std_x_pca\n",
    "    _y_pred += avg_x_pca\n",
    "\n",
    "    _logsed_pred = np.dot(_y_pred, M_pca) * std_logsed + avg_logsed\n",
    "    dlogsed.append((10**logsed[i] - 10**_logsed_pred)/10**logsed[i])"
   ]
  },
  {
   "cell_type": "code",
   "execution_count": 21,
   "id": "b877fba6-1b78-4c79-a92d-7e372c055fff",
   "metadata": {
    "tags": []
   },
   "outputs": [
    {
     "data": {
      "text/plain": [
       "(-0.5, 0.5)"
      ]
     },
     "execution_count": 21,
     "metadata": {},
     "output_type": "execute_result"
    },
    {
     "data": {
      "image/png": "[encoded data removed]",
      "text/plain": [
       "<Figure size 1000x500 with 1 Axes>"
      ]
     },
     "metadata": {},
     "output_type": "display_data"
    }
   ],
   "source": [
    "fig = plt.figure(figsize=(10,5))\n",
    "sub = fig.add_subplot(111)\n",
    "\n",
    "q0, q1, q2, q3 = np.quantile(dlogsed, [0.025, 0.16, 0.84, 0.975], axis=0)\n",
    "\n",
    "\n",
    "sub.fill_between(_w[wlim], q0[0], q3[0], color='C0', edgecolor='none', alpha=0.1) \n",
    "sub.fill_between(_w[wlim], q1[0], q2[0], color='C0', edgecolor='none', alpha=0.3) \n",
    "sub.plot([_w[wlim].min(), _w[wlim].max()], [0., 0.], c='C0', ls='--')\n",
    "\n",
    "sub.set_xlabel('wavelength', fontsize=25)\n",
    "sub.set_xlim(_w[wlim].min(), _w[wlim].max())\n",
    "\n",
    "sub.set_ylim(-0.5, 0.5)"
   ]
  },
  {
   "cell_type": "code",
   "execution_count": null,
   "id": "35e4cb9c-7422-48ac-904a-fd44fcc9f17a",
   "metadata": {},
   "outputs": [],
   "source": []
  }
 ],
 "metadata": {
  "kernelspec": {
   "display_name": "jax-gpu",
   "language": "python",
   "name": "jax-gpu"
  },
  "language_info": {
   "codemirror_mode": {
    "name": "ipython",
    "version": 3
   },
   "file_extension": ".py",
   "mimetype": "text/x-python",
   "name": "python",
   "nbconvert_exporter": "python",
   "pygments_lexer": "ipython3",
   "version": "3.9.19"
  }
 },
 "nbformat": 4,
 "nbformat_minor": 5
}
