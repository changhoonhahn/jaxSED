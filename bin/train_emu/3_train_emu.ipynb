{
 "cells": [
  {
   "cell_type": "code",
   "execution_count": 1,
   "id": "44c1445f-1150-4587-93a7-c10c420561c0",
   "metadata": {
    "tags": []
   },
   "outputs": [],
   "source": [
    "import os\n",
    "import numpy as np\n",
    "\n",
    "import jax\n",
    "import jax.numpy as jnp\n",
    "from jax import grad, jit, vmap, random\n",
    "from jax.nn import sigmoid, relu\n",
    "from jax.tree_util import tree_map\n",
    "\n",
    "import optax\n",
    "import functools\n",
    "\n",
    "import torch\n",
    "from torch.utils import data"
   ]
  },
  {
   "cell_type": "code",
   "execution_count": 2,
   "id": "3e5ef59c",
   "metadata": {
    "tags": []
   },
   "outputs": [],
   "source": [
    "import matplotlib.pyplot as plt"
   ]
  },
  {
   "cell_type": "code",
   "execution_count": 3,
   "id": "bc010b7f",
   "metadata": {
    "tags": []
   },
   "outputs": [],
   "source": [
    "import util as U"
   ]
  },
  {
   "cell_type": "markdown",
   "id": "84bc757e",
   "metadata": {},
   "source": [
    "# Load data"
   ]
  },
  {
   "cell_type": "code",
   "execution_count": 4,
   "id": "22dafa8c",
   "metadata": {
    "tags": []
   },
   "outputs": [],
   "source": [
    "iwave = 1"
   ]
  },
  {
   "cell_type": "code",
   "execution_count": 7,
   "id": "7ca9e56d",
   "metadata": {
    "tags": []
   },
   "outputs": [],
   "source": [
    "_thetas, _t_ages = [], [] \n",
    "for i in range(10): \n",
    "    _thetas.append(np.load(os.path.join(U.data_dir(), 'seds', 'modelb', 'train_sed.modelb.%i.thetas_sps.npz' % i))['arr_0'])\n",
    "    _t_ages.append(np.load(os.path.join(U.data_dir(), 'seds', 'modelb', 'train_sed.modelb.%i.tages.npz' % i))['arr_0'])    \n",
    "_thetas = np.concatenate(_thetas, axis=0)    \n",
    "_t_ages = np.concatenate(_t_ages, axis=0)\n",
    "_thetas = np.concatenate([_thetas, _t_ages[:,None]], axis=1)"
   ]
  },
  {
   "cell_type": "code",
   "execution_count": 8,
   "id": "a8d6cfab",
   "metadata": {
    "tags": []
   },
   "outputs": [],
   "source": [
    "avg_thetas = np.mean(_thetas, axis=0)\n",
    "std_thetas = np.std(_thetas, axis=0)\n",
    "thetas = (_thetas - avg_thetas)/std_thetas"
   ]
  },
  {
   "cell_type": "code",
   "execution_count": 9,
   "id": "d633c5a3",
   "metadata": {
    "tags": []
   },
   "outputs": [],
   "source": [
    "_x_pca = np.load(os.path.join(U.data_dir(), 'seds', 'modelb', 'train_sed.modelb.x_pca.w%i.npy' % iwave))"
   ]
  },
  {
   "cell_type": "code",
   "execution_count": 10,
   "id": "aede1e8f",
   "metadata": {
    "tags": []
   },
   "outputs": [],
   "source": [
    "avg_x_pca = np.mean(_x_pca, axis=0)\n",
    "std_x_pca = np.std(_x_pca, axis=0)\n",
    "x_pca = (_x_pca - avg_x_pca)/std_x_pca"
   ]
  },
  {
   "cell_type": "code",
   "execution_count": 11,
   "id": "57eab7ec",
   "metadata": {
    "tags": []
   },
   "outputs": [],
   "source": [
    "def numpy_collate(batch):\n",
    "    return tree_map(np.asarray, data.default_collate(batch))\n",
    "\n",
    "class NumpyLoader(data.DataLoader):\n",
    "    def __init__(self, dataset, batch_size=1,\n",
    "                shuffle=False, sampler=None,\n",
    "                batch_sampler=None, num_workers=0,\n",
    "                pin_memory=False, drop_last=False,\n",
    "                timeout=0, worker_init_fn=None):\n",
    "        super(self.__class__, self).__init__(dataset,\n",
    "            batch_size=batch_size,\n",
    "            shuffle=shuffle,\n",
    "            sampler=sampler,\n",
    "            batch_sampler=batch_sampler,\n",
    "            num_workers=num_workers,\n",
    "            collate_fn=numpy_collate,\n",
    "            pin_memory=pin_memory,\n",
    "            drop_last=drop_last,\n",
    "            timeout=timeout,\n",
    "            worker_init_fn=worker_init_fn)\n",
    "\n",
    "class FlattenAndCast(object):\n",
    "    def __call__(self, pic):\n",
    "        return np.ravel(np.array(pic, dtype=jnp.float32))"
   ]
  },
  {
   "cell_type": "code",
   "execution_count": 12,
   "id": "9814b297",
   "metadata": {
    "tags": []
   },
   "outputs": [],
   "source": [
    "N_train = int(0.9*x_pca.shape[0])\n",
    "train_dataloader = NumpyLoader(data.TensorDataset(torch.tensor(thetas[:N_train]), torch.tensor(x_pca[:N_train])), batch_size=500)\n",
    "valid_dataloader = NumpyLoader(data.TensorDataset(torch.tensor(thetas[N_train:]), torch.tensor(x_pca[N_train:])), batch_size=500)"
   ]
  },
  {
   "cell_type": "markdown",
   "id": "3722a834",
   "metadata": {},
   "source": [
    "# set up MLP in jax"
   ]
  },
  {
   "cell_type": "code",
   "execution_count": 13,
   "id": "dc9d0ca8",
   "metadata": {
    "tags": []
   },
   "outputs": [],
   "source": [
    "def nonlin_act(x, beta, gamma):\n",
    "    return (gamma + sigmoid(beta * x) * (1 - gamma)) * x\n",
    "\n",
    "def init_mlp_params(layer_sizes, scale=1e-2):\n",
    "    keys = random.split(random.PRNGKey(1), len(layer_sizes))\n",
    "\n",
    "    params = []\n",
    "    for i, key in zip(np.arange(len(layer_sizes)-2), keys): \n",
    "        m, n = layer_sizes[i], layer_sizes[i+1]\n",
    "        #w_key, b_key = random.split(key, num=2)\n",
    "        #params.append([scale * random.normal(w_key, (n, m)), scale * random.normal(b_key, (n,))])\n",
    "        w_key, b_key, _a_key, _b_key = random.split(key, num=4)\n",
    "        params.append([scale * random.normal(w_key, (n, m)), scale * random.normal(b_key, (n,)), \n",
    "                      scale * random.normal(_a_key, (n,)), scale * random.normal(_b_key, (n,))])\n",
    "\n",
    "    m, n = layer_sizes[-2], layer_sizes[-1]        \n",
    "    w_key, b_key = random.split(keys[-1], num=2)\n",
    "    params.append([scale * random.normal(w_key, (n, m)), scale * random.normal(b_key, (n,))])\n",
    "    return params\n",
    "\n",
    "@functools.partial(jax.vmap, in_axes=(None, 0))\n",
    "def forward(params, inputs):\n",
    "    activations = inputs\n",
    "    #for w, b in params[:-1]:\n",
    "    for w, b, beta, gamma in params[:-1]:\n",
    "        outputs = jnp.dot(w, activations) + b\n",
    "        activations = nonlin_act(outputs, beta, gamma) #relu(outputs)#\n",
    "\n",
    "    final_w, final_b = params[-1]\n",
    "    return jnp.dot(final_w, activations) + final_b\n",
    "\n",
    "def mse_loss(params, inputs, targets):\n",
    "    preds = forward(params, inputs)\n",
    "    return jnp.mean((preds - targets) ** 2)"
   ]
  },
  {
   "cell_type": "markdown",
   "id": "89b01d5c",
   "metadata": {},
   "source": [
    "# train using `optax`"
   ]
  },
  {
   "cell_type": "code",
   "execution_count": 14,
   "id": "4f426ca1",
   "metadata": {
    "tags": []
   },
   "outputs": [],
   "source": [
    "# Update function\n",
    "@jit\n",
    "def update(params, opt_state, inputs, targets):\n",
    "    loss, grads = jax.value_and_grad(mse_loss)(params, inputs, targets)\n",
    "    updates, opt_state = gradient_transform.update(grads, opt_state)\n",
    "    params = optax.apply_updates(params, updates)\n",
    "    #updates, opt_state = optimizer.update(grads, opt_state)\n",
    "    #params = optax.apply_updates(params, updates)\n",
    "    return params, opt_state, loss"
   ]
  },
  {
   "cell_type": "code",
   "execution_count": 15,
   "id": "11d39ee0",
   "metadata": {
    "tags": []
   },
   "outputs": [
    {
     "name": "stderr",
     "output_type": "stream",
     "text": [
      "2024-04-24 07:13:28.343859: W external/xla/xla/service/gpu/nvptx_compiler.cc:718] The NVIDIA driver's CUDA version is 12.2 which is older than the ptxas CUDA version (12.4.131). Because the driver is older than the ptxas version, XLA is disabling parallel compilation, which may slow down compilation. You should update your NVIDIA driver or use the NVIDIA-provided CUDA forward compatibility packages.\n"
     ]
    },
    {
     "name": "stdout",
     "output_type": "stream",
     "text": [
      "Epoch 0, Loss: 0.37362176179885864, Valid Loss: 0.24705392122268677\n",
      "Epoch 10, Loss: 0.1385112702846527, Valid Loss: 0.15144559741020203\n",
      "Epoch 20, Loss: 0.11963596194982529, Valid Loss: 0.12520112097263336\n",
      "Epoch 30, Loss: 0.10960288345813751, Valid Loss: 0.11973569542169571\n",
      "Epoch 40, Loss: 0.10355164855718613, Valid Loss: 0.11254925280809402\n",
      "Epoch 50, Loss: 0.09860151261091232, Valid Loss: 0.10777720808982849\n",
      "Epoch 60, Loss: 0.09614824503660202, Valid Loss: 0.10579792410135269\n",
      "Epoch 70, Loss: 0.09283198416233063, Valid Loss: 0.09487646073102951\n",
      "Epoch 80, Loss: 0.09133774787187576, Valid Loss: 0.09498399496078491\n",
      "Epoch 90, Loss: 0.08901312202215195, Valid Loss: 0.0937497466802597\n",
      "Epoch 100, Loss: 0.08823955804109573, Valid Loss: 0.09220709651708603\n",
      "Epoch 110, Loss: 0.08702795207500458, Valid Loss: 0.08713795244693756\n",
      "Epoch 120, Loss: 0.0857371985912323, Valid Loss: 0.09076584875583649\n",
      "Epoch 130, Loss: 0.08570664376020432, Valid Loss: 0.08976391702890396\n",
      "Epoch 140, Loss: 0.08532658219337463, Valid Loss: 0.08637450635433197\n",
      "Epoch 150, Loss: 0.08435728400945663, Valid Loss: 0.08582071214914322\n",
      "Epoch 160, Loss: 0.0839545950293541, Valid Loss: 0.08200597763061523\n",
      "Epoch 170, Loss: 0.08294876664876938, Valid Loss: 0.08405215293169022\n",
      "Epoch 180, Loss: 0.08227444440126419, Valid Loss: 0.0805945172905922\n"
     ]
    }
   ],
   "source": [
    "layer_sizes = [thetas.shape[1], 512, 512, 512, x_pca.shape[1]]\n",
    "learning_rate = 1e-2\n",
    "n_epochs = 1000\n",
    "\n",
    "# Initialize the MLP and optimizer\n",
    "params = init_mlp_params(layer_sizes)\n",
    "optimizer = optax.adam(learning_rate)\n",
    "\n",
    "total_steps = n_epochs*len(train_dataloader)\n",
    "scheduler = optax.exponential_decay(init_value=learning_rate, \n",
    "                                    transition_steps=total_steps, \n",
    "                                    transition_begin=int(total_steps*0.25),\n",
    "                                    decay_rate=0.01)\n",
    "\n",
    "# Combining gradient transforms using `optax.chain`.\n",
    "gradient_transform = optax.chain(\n",
    "    optax.clip_by_global_norm(1.0),  # Clip by the gradient by the global norm.\n",
    "    optax.scale_by_adam(),  # Use the updates from adam.\n",
    "    optax.scale_by_schedule(scheduler),  # Use the learning rate from the scheduler.\n",
    "    # Scale updates by -1 since optax.apply_updates is additive and we want to descend on the loss.\n",
    "    optax.scale(-1.0)\n",
    ")\n",
    "\n",
    "# Initialize optimizer state\n",
    "#opt_state = optimizer.init(params)\n",
    "opt_state = gradient_transform.init(params)\n",
    "\n",
    "\n",
    "# Training loop\n",
    "train_loss, valid_loss, best_valid_loss, best_epoch = [], [], np.inf, 0\n",
    "for epoch in range(n_epochs):\n",
    "    epoch_loss = 0.0\n",
    "    for x, y in train_dataloader:        \n",
    "        params, opt_state, loss = update(params, opt_state, x, y)        \n",
    "        epoch_loss += loss\n",
    "    epoch_loss /= len(train_dataloader)\n",
    "    train_loss.append(epoch_loss)\n",
    "    \n",
    "    _loss = 0.\n",
    "    for x, y in valid_dataloader: \n",
    "        loss = mse_loss(params, x, y)\n",
    "        _loss += loss\n",
    "    valid_loss.append(_loss/len(valid_dataloader))\n",
    "\n",
    "    # early stopping after 20 epochs\n",
    "    if valid_loss[-1] < best_valid_loss: \n",
    "        best_valid_loss = valid_loss[-1]\n",
    "        best_epoch = epoch\n",
    "        best_params = params.copy()\n",
    "\n",
    "    if epoch > best_epoch + 20: \n",
    "        break\n",
    "\n",
    "    if epoch % 10 == 0: print(f\"Epoch {epoch}, Loss: {epoch_loss}, Valid Loss: {valid_loss[-1]}\")"
   ]
  },
  {
   "cell_type": "code",
   "execution_count": 16,
   "id": "5a403a4c",
   "metadata": {
    "tags": []
   },
   "outputs": [
    {
     "data": {
      "text/plain": [
       "Array([[ 0.30544683, -1.0985299 , -0.6225617 ,  0.8211838 , -0.67987406,\n",
       "        -0.75842166,  0.20826983, -0.2952221 , -0.49112564,  0.66250837,\n",
       "        -0.22825181,  0.68429524, -0.64100736, -0.76408315, -0.8576699 ,\n",
       "        -0.3410589 , -0.72494614,  1.0853207 ,  0.03257096,  0.46615154,\n",
       "         0.03230554,  0.10021716, -1.3587847 ,  0.8191849 ,  0.40436512,\n",
       "        -0.17368937, -0.34954864, -0.5945807 ,  0.13967782,  0.52117205,\n",
       "        -0.03792303,  0.9510486 , -1.468627  , -0.9420044 ,  0.37634468,\n",
       "        -0.11561026,  0.46595103, -0.06456767,  0.96532106, -0.41958168,\n",
       "        -1.0010083 ,  0.43346626,  0.8405904 , -0.923341  , -0.6613994 ,\n",
       "        -1.2857317 ,  0.71580684,  0.6898802 , -0.07762536,  0.44860843]],      dtype=float32)"
      ]
     },
     "execution_count": 16,
     "metadata": {},
     "output_type": "execute_result"
    }
   ],
   "source": [
    "forward(best_params, np.array([thetas[0]]))"
   ]
  },
  {
   "cell_type": "code",
   "execution_count": 17,
   "id": "ba1702ed",
   "metadata": {
    "tags": []
   },
   "outputs": [
    {
     "data": {
      "text/plain": [
       "array([ 0.30943524, -1.13289034, -0.6653249 ,  0.81677219, -0.64704121,\n",
       "       -0.69456442,  0.28655735, -0.27562407, -0.44432556,  0.62977647,\n",
       "       -0.20037988,  0.57277916, -0.67910717, -0.66117903, -0.82910167,\n",
       "       -0.3129925 , -0.61549791,  1.05481832,  0.2210822 ,  0.22595005,\n",
       "       -0.14898076,  0.05213284, -1.38782921,  0.60607091,  0.41044452,\n",
       "       -0.12768584, -0.13348063, -0.57776957,  0.1525249 ,  0.47004961,\n",
       "       -0.05956924,  0.85542953, -1.33422384, -0.72609636,  0.29622136,\n",
       "        0.14193092,  0.33000221,  0.14298564,  0.865948  , -0.39399038,\n",
       "       -0.72042464,  0.39615588,  0.80161837, -0.79733654, -0.12604371,\n",
       "       -1.12663324,  0.70457986,  0.54110416, -0.06183649,  0.53769653])"
      ]
     },
     "execution_count": 17,
     "metadata": {},
     "output_type": "execute_result"
    }
   ],
   "source": [
    "x_pca[0]"
   ]
  },
  {
   "cell_type": "code",
   "execution_count": 19,
   "id": "4038c115",
   "metadata": {
    "tags": []
   },
   "outputs": [
    {
     "data": {
      "text/plain": [
       "[<matplotlib.lines.Line2D at 0x7fa0e812b8b0>]"
      ]
     },
     "execution_count": 19,
     "metadata": {},
     "output_type": "execute_result"
    },
    {
     "data": {
      "image/png": "[encoded data removed]",
      "text/plain": [
       "<Figure size 640x480 with 1 Axes>"
      ]
     },
     "metadata": {},
     "output_type": "display_data"
    }
   ],
   "source": [
    "plt.plot(train_loss)\n",
    "plt.plot(valid_loss)"
   ]
  },
  {
   "cell_type": "markdown",
   "id": "479c3a93",
   "metadata": {},
   "source": [
    "# validate trained NN"
   ]
  },
  {
   "cell_type": "code",
   "execution_count": 26,
   "id": "dc81979c",
   "metadata": {
    "tags": []
   },
   "outputs": [],
   "source": [
    "M_pca = np.load(os.path.join(U.data_dir(), 'seds', 'modelb', 'train_sed.modelb.M_pca.w%i.npy' % iwave))\n",
    "avg_logsed = np.load(os.path.join(U.data_dir(), 'seds', 'modelb', 'train_sed.modelb.avg_logseds.w%i.npy' % iwave))\n",
    "std_logsed = np.load(os.path.join(U.data_dir(), 'seds', 'modelb', 'train_sed.modelb.std_logseds.w%i.npy' % iwave))"
   ]
  },
  {
   "cell_type": "code",
   "execution_count": 21,
   "id": "d956de10",
   "metadata": {
    "tags": []
   },
   "outputs": [],
   "source": [
    "wave_bins = [(1.5e3, 3.525e3), \n",
    "             (3.525e3, 5.5e3), (5.5e3, 7.5e3), # these wavelength ranges are determined by the MILES spectral library wavelength (3525 - 7500)\n",
    "             (7.5e3, 4e5)]\n",
    "wave_bin = wave_bins[iwave]\n",
    "\n",
    "_w = np.load(os.path.join(U.data_dir(), 'seds', 'modelb', 'train_sed.modelb.0.waves.npz'))['arr_0'][0]\n",
    "wlim = np.ones(len(_w)).astype(bool)\n",
    "if wave_bin[0] is not None: wlim &= (_w > wave_bin[0])\n",
    "if wave_bin[1] is not None: wlim &= (_w < wave_bin[1])   \n",
    "    \n",
    "theta_test = np.load(os.path.join(U.data_dir(), 'seds', 'modelb', 'train_sed.modelb.999.thetas_sps.npz'))['arr_0']\n",
    "t_age_test = np.load(os.path.join(U.data_dir(), 'seds', 'modelb', 'train_sed.modelb.999.tages.npz'))['arr_0']\n",
    "logsed = np.log10(np.load(os.path.join(U.data_dir(), 'seds', 'modelb', 'train_sed.modelb.999.seds.npz'))['arr_0'][:,wlim])"
   ]
  },
  {
   "cell_type": "code",
   "execution_count": 28,
   "id": "35426cf8",
   "metadata": {
    "tags": []
   },
   "outputs": [],
   "source": [
    "dlogsed = []\n",
    "for i in range(logsed.shape[0]): \n",
    "    _theta = np.concatenate([theta_test[i], [t_age_test[i]]])\n",
    "    _wtheta = (_theta - avg_thetas)/std_thetas\n",
    "\n",
    "    _y_pred = forward(best_params, np.array([_wtheta]))\n",
    "\n",
    "    _y_pred *= std_x_pca\n",
    "    _y_pred += avg_x_pca\n",
    "\n",
    "    _logsed_pred = np.dot(_y_pred, M_pca) * std_logsed + avg_logsed\n",
    "    dlogsed.append((10**logsed[i] - 10**_logsed_pred)/10**logsed[i])"
   ]
  },
  {
   "cell_type": "code",
   "execution_count": 33,
   "id": "b877fba6-1b78-4c79-a92d-7e372c055fff",
   "metadata": {
    "tags": []
   },
   "outputs": [
    {
     "data": {
      "text/plain": [
       "(-0.1, 0.1)"
      ]
     },
     "execution_count": 33,
     "metadata": {},
     "output_type": "execute_result"
    },
    {
     "data": {
      "image/png": "[encoded data removed]",
      "text/plain": [
       "<Figure size 1000x500 with 1 Axes>"
      ]
     },
     "metadata": {},
     "output_type": "display_data"
    }
   ],
   "source": [
    "fig = plt.figure(figsize=(10,5))\n",
    "sub = fig.add_subplot(111)\n",
    "\n",
    "q0, q1, q2, q3 = np.quantile(dlogsed, [0.025, 0.16, 0.84, 0.975], axis=0)\n",
    "\n",
    "\n",
    "sub.fill_between(_w[wlim], q0[0], q3[0], color='C0', edgecolor='none', alpha=0.1) \n",
    "sub.fill_between(_w[wlim], q1[0], q2[0], color='C0', edgecolor='none', alpha=0.3) \n",
    "sub.plot([_w[wlim].min(), _w[wlim].max()], [0., 0.], c='C0', ls='--')\n",
    "\n",
    "sub.set_xlabel('wavelength', fontsize=25)\n",
    "sub.set_xlim(_w[wlim].min(), _w[wlim].max())\n",
    "\n",
    "sub.set_ylim(-0.1, 0.1)"
   ]
  },
  {
   "cell_type": "code",
   "execution_count": null,
   "id": "35e4cb9c-7422-48ac-904a-fd44fcc9f17a",
   "metadata": {},
   "outputs": [],
   "source": []
  }
 ],
 "metadata": {
  "kernelspec": {
   "display_name": "jax-gpu",
   "language": "python",
   "name": "jax-gpu"
  },
  "language_info": {
   "codemirror_mode": {
    "name": "ipython",
    "version": 3
   },
   "file_extension": ".py",
   "mimetype": "text/x-python",
   "name": "python",
   "nbconvert_exporter": "python",
   "pygments_lexer": "ipython3",
   "version": "3.9.19"
  }
 },
 "nbformat": 4,
 "nbformat_minor": 5
}
