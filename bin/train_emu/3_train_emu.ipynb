{
 "cells": [
  {
   "cell_type": "code",
   "execution_count": 1,
   "id": "44c1445f-1150-4587-93a7-c10c420561c0",
   "metadata": {
    "tags": []
   },
   "outputs": [],
   "source": [
    "import os\n",
    "import numpy as np\n",
    "\n",
    "import jax\n",
    "import jax.numpy as jnp\n",
    "from jax import grad, jit, vmap, random\n",
    "from jax.nn import sigmoid, relu\n",
    "from jax.tree_util import tree_map\n",
    "\n",
    "import optax\n",
    "import functools\n",
    "\n",
    "import torch\n",
    "from torch.utils import data"
   ]
  },
  {
   "cell_type": "code",
   "execution_count": 2,
   "id": "bc010b7f",
   "metadata": {},
   "outputs": [],
   "source": [
    "import util as U"
   ]
  },
  {
   "cell_type": "markdown",
   "id": "84bc757e",
   "metadata": {},
   "source": [
    "# Load data"
   ]
  },
  {
   "cell_type": "code",
   "execution_count": 3,
   "id": "22dafa8c",
   "metadata": {},
   "outputs": [],
   "source": [
    "iwave = 0"
   ]
  },
  {
   "cell_type": "code",
   "execution_count": 4,
   "id": "7ca9e56d",
   "metadata": {},
   "outputs": [],
   "source": [
    "_thetas = []\n",
    "for i in range(10): \n",
    "    _thetas.append(np.load(os.path.join(U.data_dir(), 'seds', 'modelb', 'train_sed.modelb.%i.thetas_sps.npz' % i))['arr_0'])\n",
    "_thetas = np.concatenate(_thetas, axis=0)    "
   ]
  },
  {
   "cell_type": "code",
   "execution_count": 5,
   "id": "a8d6cfab",
   "metadata": {},
   "outputs": [],
   "source": [
    "avg_thetas = np.mean(_thetas, axis=0)\n",
    "std_thetas = np.std(_thetas, axis=0)\n",
    "thetas = (_thetas - avg_thetas)/std_thetas"
   ]
  },
  {
   "cell_type": "code",
   "execution_count": 6,
   "id": "d633c5a3",
   "metadata": {},
   "outputs": [],
   "source": [
    "_x_pca = np.load(os.path.join(U.data_dir(), 'seds', 'modelb', 'train_sed.modelb.x_pca.w%i.npy' % iwave))"
   ]
  },
  {
   "cell_type": "code",
   "execution_count": 7,
   "id": "aede1e8f",
   "metadata": {},
   "outputs": [],
   "source": [
    "avg_x_pca = np.mean(_x_pca, axis=0)\n",
    "std_x_pca = np.std(_x_pca, axis=0)\n",
    "x_pca = (_x_pca - avg_x_pca)/std_x_pca"
   ]
  },
  {
   "cell_type": "code",
   "execution_count": 8,
   "id": "57eab7ec",
   "metadata": {},
   "outputs": [],
   "source": [
    "def numpy_collate(batch):\n",
    "    return tree_map(np.asarray, data.default_collate(batch))\n",
    "\n",
    "class NumpyLoader(data.DataLoader):\n",
    "    def __init__(self, dataset, batch_size=1,\n",
    "                shuffle=False, sampler=None,\n",
    "                batch_sampler=None, num_workers=0,\n",
    "                pin_memory=False, drop_last=False,\n",
    "                timeout=0, worker_init_fn=None):\n",
    "        super(self.__class__, self).__init__(dataset,\n",
    "            batch_size=batch_size,\n",
    "            shuffle=shuffle,\n",
    "            sampler=sampler,\n",
    "            batch_sampler=batch_sampler,\n",
    "            num_workers=num_workers,\n",
    "            collate_fn=numpy_collate,\n",
    "            pin_memory=pin_memory,\n",
    "            drop_last=drop_last,\n",
    "            timeout=timeout,\n",
    "            worker_init_fn=worker_init_fn)\n",
    "\n",
    "class FlattenAndCast(object):\n",
    "    def __call__(self, pic):\n",
    "        return np.ravel(np.array(pic, dtype=jnp.float32))"
   ]
  },
  {
   "cell_type": "code",
   "execution_count": 9,
   "id": "9814b297",
   "metadata": {},
   "outputs": [],
   "source": [
    "N_train = int(0.9*x_pca.shape[0])\n",
    "train_dataloader = NumpyLoader(data.TensorDataset(torch.tensor(thetas[:N_train]), torch.tensor(x_pca[:N_train])), batch_size=500)\n",
    "valid_dataloader = NumpyLoader(data.TensorDataset(torch.tensor(thetas[N_train:]), torch.tensor(x_pca[N_train:])), batch_size=500)"
   ]
  },
  {
   "cell_type": "markdown",
   "id": "3722a834",
   "metadata": {},
   "source": [
    "# set up MLP in jax"
   ]
  },
  {
   "cell_type": "code",
   "execution_count": 13,
   "id": "dc9d0ca8",
   "metadata": {},
   "outputs": [],
   "source": [
    "def nonlin_act(x, beta, gamma):\n",
    "    return (gamma + sigmoid(beta * x) * (1 - gamma)) * x\n",
    "\n",
    "def init_mlp_params(layer_sizes, scale=1e-2):\n",
    "    keys = random.split(random.PRNGKey(1), len(layer_sizes))\n",
    "\n",
    "    params = []\n",
    "    for i, key in zip(np.arange(len(layer_sizes)-2), keys): \n",
    "        m, n = layer_sizes[i], layer_sizes[i+1]\n",
    "        #w_key, b_key = random.split(key, num=2)\n",
    "        #params.append([scale * random.normal(w_key, (n, m)), scale * random.normal(b_key, (n,))])\n",
    "        w_key, b_key, _a_key, _b_key = random.split(key, num=4)\n",
    "        params.append([scale * random.normal(w_key, (n, m)), scale * random.normal(b_key, (n,)), \n",
    "                      scale * random.normal(_a_key, (n,)), scale * random.normal(_b_key, (n,))])\n",
    "\n",
    "    m, n = layer_sizes[-2], layer_sizes[-1]        \n",
    "    w_key, b_key = random.split(keys[-1], num=2)\n",
    "    params.append([scale * random.normal(w_key, (n, m)), scale * random.normal(b_key, (n,))])\n",
    "    return params\n",
    "\n",
    "@functools.partial(jax.vmap, in_axes=(None, 0))\n",
    "def forward(params, inputs):\n",
    "    activations = inputs\n",
    "    #for w, b in params[:-1]:\n",
    "    for w, b, beta, gamma in params[:-1]:\n",
    "        outputs = jnp.dot(w, activations) + b\n",
    "        activations = nonlin_act(outputs, beta, gamma) #relu(outputs)#\n",
    "\n",
    "    final_w, final_b = params[-1]\n",
    "    return jnp.dot(final_w, activations) + final_b\n",
    "\n",
    "def mse_loss(params, inputs, targets):\n",
    "    preds = forward(params, inputs)\n",
    "    return jnp.mean((preds - targets) ** 2)"
   ]
  },
  {
   "cell_type": "markdown",
   "id": "89b01d5c",
   "metadata": {},
   "source": [
    "# train using `optax`"
   ]
  },
  {
   "cell_type": "code",
   "execution_count": 14,
   "id": "4f426ca1",
   "metadata": {},
   "outputs": [],
   "source": [
    "# Update function\n",
    "@jit\n",
    "def update(params, opt_state, inputs, targets):\n",
    "    loss, grads = jax.value_and_grad(mse_loss)(params, inputs, targets)\n",
    "    updates, opt_state = optimizer.update(grads, opt_state)\n",
    "    params = optax.apply_updates(params, updates)\n",
    "    return params, opt_state, loss"
   ]
  },
  {
   "cell_type": "code",
   "execution_count": null,
   "id": "11d39ee0",
   "metadata": {},
   "outputs": [
    {
     "name": "stderr",
     "output_type": "stream",
     "text": [
      "2024-04-22 18:08:51.724874: W external/xla/xla/service/gpu/gemm_fusion_autotuner.cc:822] Compiling 60 configs for 2 fusions on a single thread.\n"
     ]
    },
    {
     "name": "stdout",
     "output_type": "stream",
     "text": [
      "Epoch 0, Loss: 0.5052255392074585, Valid Loss: 0.4205957055091858\n",
      "Epoch 10, Loss: 0.3351205885410309, Valid Loss: 0.3257567286491394\n"
     ]
    }
   ],
   "source": [
    "layer_sizes = [thetas.shape[1], 512, 512, 512, x_pca.shape[1]]\n",
    "learning_rate = 1e-2\n",
    "\n",
    "# Initialize the MLP and optimizer\n",
    "params = init_mlp_params(layer_sizes)\n",
    "optimizer = optax.adam(learning_rate)\n",
    "\n",
    "# Initialize optimizer state\n",
    "opt_state = optimizer.init(params)\n",
    "\n",
    "# Training loop\n",
    "train_loss, valid_loss, best_valid_loss, best_epoch = [], [], np.inf, 0\n",
    "for epoch in range(100):\n",
    "    epoch_loss = 0.0\n",
    "    for x, y in train_dataloader:        \n",
    "        params, opt_state, loss = update(params, opt_state, x, y)\n",
    "        epoch_loss += loss\n",
    "    epoch_loss /= len(train_dataloader)\n",
    "    train_loss.append(epoch_loss)\n",
    "    \n",
    "    _loss = 0.\n",
    "    for x, y in valid_dataloader: \n",
    "        loss = mse_loss(params, x, y)\n",
    "        _loss += loss\n",
    "    valid_loss.append(_loss/len(valid_dataloader))\n",
    "    \n",
    "    # early stopping after 20 epochs\n",
    "    if valid_loss[-1] < best_valid_loss: \n",
    "        best_valid_loss = valid_loss[-1]\n",
    "        best_epoch = epoch\n",
    "        best_params = params.copy()\n",
    "    \n",
    "    if epoch > best_epoch + 20: \n",
    "        break\n",
    "    \n",
    "    if epoch % 10 == 0: print(f\"Epoch {epoch}, Loss: {epoch_loss}, Valid Loss: {valid_loss[-1]}\")"
   ]
  },
  {
   "cell_type": "code",
   "execution_count": 13,
   "id": "5a403a4c",
   "metadata": {},
   "outputs": [
    {
     "data": {
      "text/plain": [
       "Array([[-0.495287  ,  0.9583919 ,  0.31079614,  0.71223557, -0.55758876,\n",
       "         0.1382192 ,  0.27470204, -0.6669588 , -0.3062832 ,  0.13313378,\n",
       "         0.01749439,  0.15028504,  0.05992181, -0.20447147, -1.018263  ,\n",
       "         0.08631246,  0.49186757,  0.13924645,  0.04947069, -0.42469865,\n",
       "        -0.50627637, -0.84028643, -0.08374523,  0.4662866 , -0.39195043,\n",
       "        -0.39059538, -0.01169009, -0.6305155 ,  0.01501582, -0.45069724,\n",
       "        -0.00170087, -0.8122311 ,  0.6716037 , -0.30423027,  0.1278854 ,\n",
       "         0.20167826,  0.02770931,  0.49003458,  0.5209687 , -0.52562636,\n",
       "         0.02302057,  0.36604246, -0.3069398 ,  0.3594612 ,  0.6416318 ,\n",
       "        -0.01640613, -0.2640114 , -0.38142022, -0.27953708,  0.08608639]],      dtype=float32)"
      ]
     },
     "execution_count": 13,
     "metadata": {},
     "output_type": "execute_result"
    }
   ],
   "source": [
    "forward(best_params, np.array([thetas[0]]))"
   ]
  },
  {
   "cell_type": "code",
   "execution_count": 14,
   "id": "ba1702ed",
   "metadata": {},
   "outputs": [
    {
     "data": {
      "text/plain": [
       "array([-0.54183308,  0.903849  ,  0.35833175,  0.74715039, -0.49139876,\n",
       "        0.12673041,  0.34411543, -0.68580947, -0.36211738,  0.12033735,\n",
       "        0.10623032,  0.11843953,  0.12138415, -0.15936403, -1.03258514,\n",
       "        0.12819094,  0.44048624,  0.21458756, -0.01613224, -0.42981134,\n",
       "       -0.58419217, -0.91268515, -0.08356222,  0.42269231, -0.32774002,\n",
       "       -0.20316892, -0.08100052, -0.57434618, -0.12659601, -0.39018885,\n",
       "        0.08950705, -0.97297941,  0.6065888 , -0.09499975,  0.02730038,\n",
       "        0.25482791, -0.04344216,  0.53033247,  0.53242387, -0.6407962 ,\n",
       "       -0.03348228,  0.41607369, -0.30245498,  0.34658066,  0.62266106,\n",
       "       -0.06754308, -0.12947285, -0.36288769, -0.30495337,  0.0879292 ])"
      ]
     },
     "execution_count": 14,
     "metadata": {},
     "output_type": "execute_result"
    }
   ],
   "source": [
    "x_pca[0]"
   ]
  },
  {
   "cell_type": "code",
   "execution_count": 15,
   "id": "61a9b8d9",
   "metadata": {},
   "outputs": [],
   "source": [
    "import matplotlib.pyplot as plt"
   ]
  },
  {
   "cell_type": "code",
   "execution_count": 16,
   "id": "4038c115",
   "metadata": {},
   "outputs": [
    {
     "data": {
      "text/plain": [
       "[<matplotlib.lines.Line2D at 0x148fed8cd2b0>]"
      ]
     },
     "execution_count": 16,
     "metadata": {},
     "output_type": "execute_result"
    },
    {
     "data": {
      "image/png": "[encoded data removed]",
      "text/plain": [
       "<Figure size 640x480 with 1 Axes>"
      ]
     },
     "metadata": {},
     "output_type": "display_data"
    }
   ],
   "source": [
    "plt.plot(train_loss)\n",
    "plt.plot(valid_loss)"
   ]
  },
  {
   "cell_type": "markdown",
   "id": "479c3a93",
   "metadata": {},
   "source": [
    "# validate trained NN"
   ]
  },
  {
   "cell_type": "code",
   "execution_count": 20,
   "id": "dc81979c",
   "metadata": {},
   "outputs": [],
   "source": [
    "M_pca = np.load(os.path.join(U.data_dir(), 'seds', 'modelb', 'train_sed.modelb.M_pca.w0.npy'))\n",
    "avg_logsed = np.load(os.path.join(U.data_dir(), 'seds', 'modelb', 'train_sed.modelb.avg_logseds.w0.npy'))\n",
    "std_logsed = np.load(os.path.join(U.data_dir(), 'seds', 'modelb', 'train_sed.modelb.std_logseds.w0.npy'))"
   ]
  },
  {
   "cell_type": "code",
   "execution_count": null,
   "id": "d956de10",
   "metadata": {},
   "outputs": [],
   "source": [
    "wave_bins = [(1.5e3, 3.525e3), \n",
    "             (3.525e3, 5.5e3), (5.5e3, 7.5e3), # these wavelength ranges are determined by the MILES spectral library wavelength (3525 - 7500)\n",
    "             (7.5e3, 4e5)]\n",
    "wave_bin = wave_bins[iwave]\n",
    "\n",
    "_w = np.load(os.path.join(U.data_dir(), 'seds', 'modelb', 'train_sed.modelb.0.waves.npz'))['arr_0'][0]\n",
    "wlim = np.ones(len(_w)).astype(bool)\n",
    "if wave_bin[0] is not None: wlim &= (_w > wave_bin[0])\n",
    "if wave_bin[1] is not None: wlim &= (_w < wave_bin[1])   \n",
    "    \n",
    "logseds = [] \n",
    "for seed in range(10):\n",
    "    logseds.append(np.log10(np.load(os.path.join(U.data_dir(), 'seds', 'modelb', 'train_sed.modelb.%i.seds.npz' % seed))['arr_0'][:,wlim]))\n",
    "logseds = np.concatenate(logseds)"
   ]
  },
  {
   "cell_type": "code",
   "execution_count": null,
   "id": "35426cf8",
   "metadata": {},
   "outputs": [],
   "source": [
    "y_pred = []\n",
    "for x, y in valid_dataloader: \n",
    "    y_pred.append(forward(best_params, x))\n",
    "y_pred = np.concatenate(y_pred, axis=0)\n",
    "\n",
    "y_pred *= std_x_pca\n",
    "y_pred += avg_x_pca\n",
    "\n",
    "logsed_pred = np.dot(y_pred, M_pca) * std_logsed + avg_logsed"
   ]
  }
 ],
 "metadata": {
  "kernelspec": {
   "display_name": "jax-gpu",
   "language": "python",
   "name": "jax-gpu"
  },
  "language_info": {
   "codemirror_mode": {
    "name": "ipython",
    "version": 3
   },
   "file_extension": ".py",
   "mimetype": "text/x-python",
   "name": "python",
   "nbconvert_exporter": "python",
   "pygments_lexer": "ipython3",
   "version": "3.12.3"
  }
 },
 "nbformat": 4,
 "nbformat_minor": 5
}
